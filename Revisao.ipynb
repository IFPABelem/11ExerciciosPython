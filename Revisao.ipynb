{
 "cells": [
  {
   "cell_type": "markdown",
   "metadata": {},
   "source": [
    "# Atividade de Revisão"
   ]
  },
  {
   "cell_type": "markdown",
   "metadata": {},
   "source": [
    "#### 1) Imprima a frase “Tópicos Especiais em Desenvolvimento de sistemas!\""
   ]
  },
  {
   "cell_type": "code",
   "execution_count": 1,
   "metadata": {},
   "outputs": [
    {
     "name": "stdout",
     "output_type": "stream",
     "text": [
      "Tópicos Especiais em Desenvolvimento de sistemas!\n"
     ]
    }
   ],
   "source": [
    "print('Tópicos Especiais em Desenvolvimento de sistemas!')"
   ]
  },
  {
   "cell_type": "markdown",
   "metadata": {},
   "source": [
    "#### 2) Faça operações matemáticas de soma, subtração, multiplicação e divisão entre dois valores."
   ]
  },
  {
   "cell_type": "code",
   "execution_count": 2,
   "metadata": {},
   "outputs": [
    {
     "name": "stdout",
     "output_type": "stream",
     "text": [
      "Insira o primeiro valor: 5\n",
      "Insira o segundo valor: 2\n",
      "Soma:  7.0\n",
      "Subtração:  3.0\n",
      "Multiplicação:  10.0\n",
      "Divisão:  2.5\n"
     ]
    }
   ],
   "source": [
    "n1 = float(input('Insira o primeiro valor: '))\n",
    "n2 = float(input('Insira o segundo valor: '))\n",
    "print('Soma: ',(n1+n2))\n",
    "print('Subtração: ',(n1-n2))\n",
    "print('Multiplicação: ',(n1*n2))\n",
    "print('Divisão: ',(n1/n2))"
   ]
  },
  {
   "cell_type": "markdown",
   "metadata": {},
   "source": [
    "#### 3) Imprima o tipo de um determinado valor inteiro."
   ]
  },
  {
   "cell_type": "code",
   "execution_count": 3,
   "metadata": {},
   "outputs": [
    {
     "name": "stdout",
     "output_type": "stream",
     "text": [
      "<class 'int'>\n"
     ]
    }
   ],
   "source": [
    "valor_inteiro = int(12)\n",
    "print(type(valor_inteiro))"
   ]
  },
  {
   "cell_type": "markdown",
   "metadata": {},
   "source": [
    "#### 4) Converta o valor passado anteriormente para o tipo float"
   ]
  },
  {
   "cell_type": "code",
   "execution_count": 4,
   "metadata": {},
   "outputs": [
    {
     "name": "stdout",
     "output_type": "stream",
     "text": [
      "<class 'float'>\n"
     ]
    }
   ],
   "source": [
    "valor_inteiro = float(valor_inteiro)\n",
    "print(type(valor_inteiro))"
   ]
  },
  {
   "cell_type": "markdown",
   "metadata": {},
   "source": [
    "#### 5) Faça a conversão do valor float recebido anteriormente para o tipo string"
   ]
  },
  {
   "cell_type": "code",
   "execution_count": 5,
   "metadata": {},
   "outputs": [
    {
     "name": "stdout",
     "output_type": "stream",
     "text": [
      "<class 'str'>\n"
     ]
    }
   ],
   "source": [
    "valor_inteiro = str(valor_inteiro)\n",
    "print(type(valor_inteiro))"
   ]
  },
  {
   "cell_type": "markdown",
   "metadata": {},
   "source": [
    "#### 6) Utilizando funções de arredonamento faça:\n",
    "• Arredonde o valor 2.898  \n",
    "• Arredonde o valor 2.4545455 e exiba apenas 4 cadas decimais"
   ]
  },
  {
   "cell_type": "code",
   "execution_count": 6,
   "metadata": {},
   "outputs": [
    {
     "name": "stdout",
     "output_type": "stream",
     "text": [
      "3\n",
      "2.4545\n"
     ]
    }
   ],
   "source": [
    "print(round(2.898))\n",
    "print(round(2.4545455, 4))"
   ]
  },
  {
   "cell_type": "markdown",
   "metadata": {},
   "source": [
    "#### 7) Utilizando variáveis faça:\n",
    "• Defina uma variável com o seu nome e imprima o seu valor.  \n",
    "• Imprima o tipo dessa variável.  \n",
    "• Substitua o valor da sua variável nome com a concatenação do seu valor e o seu sobrenome,\n",
    "depois, imprima o novo valor.  \n",
    "▪ obs: O resultado dessa variável será Nome Sobrenome, exemplo, Wellington Moraes.   \n",
    "• Defina duas variaveis com os valores do seu email e idade com apenas uma linha de comando,\n",
    "depois, imprima seus valores. "
   ]
  },
  {
   "cell_type": "code",
   "execution_count": 7,
   "metadata": {},
   "outputs": [
    {
     "name": "stdout",
     "output_type": "stream",
     "text": [
      "Ewerton\n",
      "<class 'str'>\n",
      "Ewerton Belo\n",
      "E-mail: ewerton.bello1212@gmail.com\n",
      "Idade: 20\n"
     ]
    }
   ],
   "source": [
    "meu_nome = 'Ewerton'\n",
    "print(meu_nome)\n",
    "\n",
    "print(type(meu_nome))\n",
    "\n",
    "sobrenome = 'Belo'\n",
    "meu_nome += ' '+sobrenome\n",
    "print(meu_nome)\n",
    "\n",
    "email, idade = 'ewerton.bello1212@gmail.com', 20\n",
    "print('E-mail:',email)\n",
    "print('Idade:',idade)"
   ]
  },
  {
   "cell_type": "markdown",
   "metadata": {},
   "source": [
    "#### 8) Explique a causa do erro se executar a seguinte instrução para criar uma nova variável: break=10"
   ]
  },
  {
   "cell_type": "markdown",
   "metadata": {},
   "source": [
    "##### R: break é uma palavra reservada, não pode ser usada como variavel."
   ]
  },
  {
   "cell_type": "markdown",
   "metadata": {},
   "source": [
    "#### 9) Sobre os objetos Strings, faça:\n",
    "• Defina uma variavel com a string: \"Python é uma maldição!\" e imprima  \n",
    "• Imprima o primeiro caracter da variavel.  \n",
    "• Imprima os valores do primeiro caracter até o 6.  \n",
    "• Faça a contagem de todos os caracteres utilizando uma única linha de comando.  \n",
    "• Faça uma contagem de quantos vezes a palavra dados aparece na seguinte frase: \"dados é o novo petróleo, em Deus eu confio, para o resto me traga dados..\"  \n",
    "\n",
    "• Substitua o primeiro caracter da frase acima para maiúsculo  \n",
    "• Quebre as palavras da frase separado por virgula, criando uma lista."
   ]
  },
  {
   "cell_type": "code",
   "execution_count": 8,
   "metadata": {},
   "outputs": [
    {
     "name": "stdout",
     "output_type": "stream",
     "text": [
      "Python é uma maldição!\n",
      "P\n",
      "Python\n",
      "22\n",
      "2\n",
      "Dados é o novo petróleo, em deus eu confio, para o resto me traga dados..\n",
      "['Dados é o novo petróleo', ' em deus eu confio', ' para o resto me traga dados..']\n"
     ]
    }
   ],
   "source": [
    "frase = 'Python é uma maldição!'\n",
    "print(frase)\n",
    "\n",
    "print(frase[0])\n",
    "\n",
    "print(frase[0:6])\n",
    "\n",
    "print(len(frase))\n",
    "\n",
    "frase2 = 'dados é o novo petróleo, em Deus eu confio, para o resto me traga dados..'\n",
    "print(frase2.count('dados'))\n",
    "\n",
    "frase2 = frase2.lower().capitalize()\n",
    "print(frase2)\n",
    "\n",
    "arr_frase2 = frase2.split(',')\n",
    "print(arr_frase2)"
   ]
  },
  {
   "cell_type": "markdown",
   "metadata": {},
   "source": [
    "#### 10) Trabalhando com Listas, faça:\n",
    "• Cria uma lista de valores inteiros com o nome idades.  \n",
    "• Imprima apenas segundo elemento da lista.  \n",
    "• Imprima a contagem de valores da lista.  \n",
    "• Substitua o valor do segundo elemento da lista e imprima o resultado.  \n",
    "• Imprima apenas os valores do segundo elemento em diante.  \n",
    "• Remova qualquer elemento da lista e imprima o resultado.  \n",
    "• Defina uma lista chamada salarios com os valores : 900,1200,1500,800,12587,10000.  \n",
    "• Verifique se contém o valor 10000 na lista de salarios.  \n",
    "• Imprima o menor e maior valor da lista.  \n",
    "• Adicione o valor 7000 a lista.  \n",
    "• Extenda a lista com dois novos elementos utilizando apenas um método.  \n",
    "• Imprima o índice do elemento de valor 800 da lista de salarios.  \n",
    "• Faça uma ordenação dos valores da lista de salarios em ordem crescente e decrescente.  "
   ]
  },
  {
   "cell_type": "code",
   "execution_count": 9,
   "metadata": {},
   "outputs": [
    {
     "name": "stdout",
     "output_type": "stream",
     "text": [
      "15\n",
      "4\n",
      "12\n",
      "12\n",
      "17\n",
      "19\n",
      "[21, 17, 19]\n",
      "Existe 10000 na lista\n",
      "Menor: 800\n",
      "Maior: 12587\n",
      "[800, 900, 1200, 1500, 10000, 12587, 7000]\n",
      "[800, 900, 1200, 1500, 10000, 12587, 7000, 12, 13000]\n",
      "0\n",
      "[12, 800, 900, 1200, 1500, 7000, 10000, 12587, 13000]\n",
      "[13000, 12587, 10000, 7000, 1500, 1200, 900, 800, 12]\n"
     ]
    }
   ],
   "source": [
    "idades = [21,15,17,19]\n",
    "\n",
    "print(idades[1])\n",
    "\n",
    "print(len(idades))\n",
    "\n",
    "idades[1] = 12\n",
    "print(idades[1])\n",
    "\n",
    "for i in range(1, len(idades)):\n",
    "    print(idades[i])\n",
    "    \n",
    "del idades[1]\n",
    "print(idades)\n",
    "\n",
    "salarios = [900,1200,1500,800,12587,10000]\n",
    "# try:\n",
    "#     if salarios.index(10000):\n",
    "#         print(\"Existe 10000 na lista\")\n",
    "# except:\n",
    "#     print(\"A lista não contém o valor 10000\")\n",
    "exist = False\n",
    "for salario in salarios:\n",
    "    if salario == 10000:\n",
    "        exist = True\n",
    "if exist:\n",
    "    print(\"Existe 10000 na lista\")\n",
    "else:\n",
    "    print(\"A lista não contém o valor 10000\")\n",
    "    \n",
    "salarios.sort()\n",
    "print(\"Menor:\",salarios[0])\n",
    "print(\"Maior:\",salarios[len(salarios)-1])\n",
    "\n",
    "salarios.append(7000)\n",
    "print(salarios)\n",
    "\n",
    "salarios.extend([12, 13000])\n",
    "print(salarios)\n",
    "\n",
    "print(salarios.index(800))\n",
    "\n",
    "salarios.sort()\n",
    "print(salarios)\n",
    "\n",
    "salarios.sort(reverse = True)\n",
    "print(salarios)\n"
   ]
  },
  {
   "cell_type": "markdown",
   "metadata": {},
   "source": [
    "#### 11) Trabalhando com arquivos\n",
    "• Crie um arquivo txt com o nome Registro.txt  \n",
    "• Abra-o no modo de escrita insira o texto: Desenvolver programas em python é mil graus :)  \n",
    "• Apresente quantos caracteres possui o arquivo  \n",
    "• Acrescente o texto: Python tem inúmeras bibliotecas para trabalhar com computação científica  \n",
    "• Mostre o conteúdo do arquivo  "
   ]
  },
  {
   "cell_type": "code",
   "execution_count": 10,
   "metadata": {},
   "outputs": [
    {
     "name": "stdout",
     "output_type": "stream",
     "text": [
      "46\n",
      "Desenvolver programas em python é mil graus :)\n",
      "Python tem inúmeras bibliotecas para trabalhar com computação científica\n"
     ]
    }
   ],
   "source": [
    "with open(\"Registro.txt\", \"w\", encoding='utf-8') as reg:\n",
    "    reg.write(\"Desenvolver programas em python é mil graus :)\")\n",
    "    \n",
    "    \n",
    "with open(\"Registro.txt\", \"r\", encoding='utf-8') as reg:\n",
    "    print(len(reg.read()))\n",
    "    \n",
    "with open(\"Registro.txt\", \"a\", encoding='utf-8') as reg:\n",
    "    reg.write(\"\\nPython tem inúmeras bibliotecas para trabalhar com computação científica\")\n",
    "\n",
    "with open(\"Registro.txt\", \"r\", encoding='utf-8') as reg:\n",
    "    print(reg.read())\n",
    "    "
   ]
  }
 ],
 "metadata": {
  "kernelspec": {
   "display_name": "Python 3",
   "language": "python",
   "name": "python3"
  },
  "language_info": {
   "codemirror_mode": {
    "name": "ipython",
    "version": 3
   },
   "file_extension": ".py",
   "mimetype": "text/x-python",
   "name": "python",
   "nbconvert_exporter": "python",
   "pygments_lexer": "ipython3",
   "version": "3.7.1"
  }
 },
 "nbformat": 4,
 "nbformat_minor": 4
}
